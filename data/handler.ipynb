{
 "cells": [
  {
   "cell_type": "code",
   "execution_count": 73,
   "metadata": {},
   "outputs": [],
   "source": [
    "import json\n",
    "import pandas as pd"
   ]
  },
  {
   "cell_type": "code",
   "execution_count": 76,
   "metadata": {},
   "outputs": [
    {
     "name": "stdout",
     "output_type": "stream",
     "text": [
      "(69, 5)\n",
      "opendate     19\n",
      "opentime     69\n",
      "closedate    19\n",
      "closetime    69\n",
      "diff         68\n",
      "dtype: int64\n"
     ]
    },
    {
     "data": {
      "text/html": [
       "<div>\n",
       "<style scoped>\n",
       "    .dataframe tbody tr th:only-of-type {\n",
       "        vertical-align: middle;\n",
       "    }\n",
       "\n",
       "    .dataframe tbody tr th {\n",
       "        vertical-align: top;\n",
       "    }\n",
       "\n",
       "    .dataframe thead th {\n",
       "        text-align: right;\n",
       "    }\n",
       "</style>\n",
       "<table border=\"1\" class=\"dataframe\">\n",
       "  <thead>\n",
       "    <tr style=\"text-align: right;\">\n",
       "      <th></th>\n",
       "      <th>opendate</th>\n",
       "      <th>opentime</th>\n",
       "      <th>closedate</th>\n",
       "      <th>closetime</th>\n",
       "      <th>diff</th>\n",
       "    </tr>\n",
       "  </thead>\n",
       "  <tbody>\n",
       "    <tr>\n",
       "      <th>0</th>\n",
       "      <td>2022-07-01</td>\n",
       "      <td>10:45:16</td>\n",
       "      <td>2022-07-01</td>\n",
       "      <td>14:00:53</td>\n",
       "      <td>3:15:37</td>\n",
       "    </tr>\n",
       "    <tr>\n",
       "      <th>1</th>\n",
       "      <td>2022-07-01</td>\n",
       "      <td>18:11:59</td>\n",
       "      <td>2022-07-01</td>\n",
       "      <td>22:25:53</td>\n",
       "      <td>4:13:54</td>\n",
       "    </tr>\n",
       "    <tr>\n",
       "      <th>2</th>\n",
       "      <td>2022-07-01</td>\n",
       "      <td>23:29:50</td>\n",
       "      <td>2022-07-02</td>\n",
       "      <td>00:22:32</td>\n",
       "      <td>0:52:42</td>\n",
       "    </tr>\n",
       "    <tr>\n",
       "      <th>3</th>\n",
       "      <td>2022-07-02</td>\n",
       "      <td>01:38:36</td>\n",
       "      <td>2022-07-02</td>\n",
       "      <td>06:38:18</td>\n",
       "      <td>4:59:42</td>\n",
       "    </tr>\n",
       "    <tr>\n",
       "      <th>4</th>\n",
       "      <td>2022-07-02</td>\n",
       "      <td>10:45:51</td>\n",
       "      <td>2022-07-02</td>\n",
       "      <td>14:48:45</td>\n",
       "      <td>4:02:54</td>\n",
       "    </tr>\n",
       "    <tr>\n",
       "      <th>...</th>\n",
       "      <td>...</td>\n",
       "      <td>...</td>\n",
       "      <td>...</td>\n",
       "      <td>...</td>\n",
       "      <td>...</td>\n",
       "    </tr>\n",
       "    <tr>\n",
       "      <th>64</th>\n",
       "      <td>2022-07-17</td>\n",
       "      <td>19:28:25</td>\n",
       "      <td>2022-07-17</td>\n",
       "      <td>22:05:13</td>\n",
       "      <td>2:36:48</td>\n",
       "    </tr>\n",
       "    <tr>\n",
       "      <th>65</th>\n",
       "      <td>2022-07-18</td>\n",
       "      <td>03:21:37</td>\n",
       "      <td>2022-07-18</td>\n",
       "      <td>08:11:36</td>\n",
       "      <td>4:49:59</td>\n",
       "    </tr>\n",
       "    <tr>\n",
       "      <th>66</th>\n",
       "      <td>2022-07-18</td>\n",
       "      <td>10:28:37</td>\n",
       "      <td>2022-07-18</td>\n",
       "      <td>11:26:36</td>\n",
       "      <td>0:57:59</td>\n",
       "    </tr>\n",
       "    <tr>\n",
       "      <th>67</th>\n",
       "      <td>2022-07-18</td>\n",
       "      <td>15:27:51</td>\n",
       "      <td>2022-07-18</td>\n",
       "      <td>20:07:09</td>\n",
       "      <td>4:39:18</td>\n",
       "    </tr>\n",
       "    <tr>\n",
       "      <th>68</th>\n",
       "      <td>2022-07-19</td>\n",
       "      <td>00:46:35</td>\n",
       "      <td>2022-07-19</td>\n",
       "      <td>05:52:13</td>\n",
       "      <td>5:05:38</td>\n",
       "    </tr>\n",
       "  </tbody>\n",
       "</table>\n",
       "<p>69 rows × 5 columns</p>\n",
       "</div>"
      ],
      "text/plain": [
       "      opendate  opentime   closedate closetime     diff\n",
       "0   2022-07-01  10:45:16  2022-07-01  14:00:53  3:15:37\n",
       "1   2022-07-01  18:11:59  2022-07-01  22:25:53  4:13:54\n",
       "2   2022-07-01  23:29:50  2022-07-02  00:22:32  0:52:42\n",
       "3   2022-07-02  01:38:36  2022-07-02  06:38:18  4:59:42\n",
       "4   2022-07-02  10:45:51  2022-07-02  14:48:45  4:02:54\n",
       "..         ...       ...         ...       ...      ...\n",
       "64  2022-07-17  19:28:25  2022-07-17  22:05:13  2:36:48\n",
       "65  2022-07-18  03:21:37  2022-07-18  08:11:36  4:49:59\n",
       "66  2022-07-18  10:28:37  2022-07-18  11:26:36  0:57:59\n",
       "67  2022-07-18  15:27:51  2022-07-18  20:07:09  4:39:18\n",
       "68  2022-07-19  00:46:35  2022-07-19  05:52:13  5:05:38\n",
       "\n",
       "[69 rows x 5 columns]"
      ]
     },
     "execution_count": 76,
     "metadata": {},
     "output_type": "execute_result"
    }
   ],
   "source": [
    "data = json.load(open(\"./datasets/mebamu_july_2022.json\"))\n",
    "data = pd.DataFrame(data)\n",
    "\n",
    "print(data.shape)\n",
    "# print(data.value_counts(sort=False))\n",
    "print(data.nunique())\n",
    "data"
   ]
  },
  {
   "cell_type": "code",
   "execution_count": 82,
   "metadata": {},
   "outputs": [
    {
     "name": "stdout",
     "output_type": "stream",
     "text": [
      "113, 113, 114, 116, 44, "
     ]
    },
    {
     "data": {
      "text/plain": [
       "500"
      ]
     },
     "execution_count": 82,
     "metadata": {},
     "output_type": "execute_result"
    }
   ],
   "source": [
    "months = \"july august september october november\".split()\n",
    "# months = [\"july\"]\n",
    "total = 0\n",
    "for month in months:\n",
    "    data = json.load(open(f\"./datasets/mebamu_{month}_2022.json\"))\n",
    "    data = pd.DataFrame(data)\n",
    "    total += data.shape[0]\n",
    "    print(data.shape[0], end=\", \")\n",
    "\n",
    "total"
   ]
  }
 ],
 "metadata": {
  "kernelspec": {
   "display_name": "Python 3.9.4 64-bit",
   "language": "python",
   "name": "python3"
  },
  "language_info": {
   "codemirror_mode": {
    "name": "ipython",
    "version": 3
   },
   "file_extension": ".py",
   "mimetype": "text/x-python",
   "name": "python",
   "nbconvert_exporter": "python",
   "pygments_lexer": "ipython3",
   "version": "3.9.4"
  },
  "orig_nbformat": 4,
  "vscode": {
   "interpreter": {
    "hash": "82ed002fa2d4956f5c6aec99bcefe0f73a9f79882f3c9e2319b14958a5896ac5"
   }
  }
 },
 "nbformat": 4,
 "nbformat_minor": 2
}
