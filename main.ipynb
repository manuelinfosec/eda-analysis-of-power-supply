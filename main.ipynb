{
 "cells": [
  {
   "cell_type": "markdown",
   "metadata": {},
   "source": [
    "# Electricity Supply Analysis\n",
    "\n",
    "In a country like Nigeria with no constant supply of electricity, this project is aimed at analyzing the supply of electricity in a neighbourhood.\n",
    "\n",
    "In this project, I'll be performing analysis according to the electricity supply."
   ]
  },
  {
   "cell_type": "code",
   "execution_count": 75,
   "metadata": {},
   "outputs": [],
   "source": [
    "import datetime as dt\n",
    "import json\n",
    "import glob\n",
    "import traces\n",
    "import numpy as np\n",
    "import pandas as pd\n",
    "from matplotlib import  pyplot as plt"
   ]
  },
  {
   "cell_type": "code",
   "execution_count": 2,
   "metadata": {},
   "outputs": [],
   "source": [
    "# Data sources\n",
    "data_dir = \"data/datasets/\"\n",
    "\n",
    "files = glob.glob(data_dir + \"*.json\")\n",
    "data = pd.DataFrame()"
   ]
  },
  {
   "cell_type": "code",
   "execution_count": 3,
   "metadata": {},
   "outputs": [],
   "source": [
    "def clean_time(time):\n",
    "    return str(time).split()[1]"
   ]
  },
  {
   "cell_type": "markdown",
   "metadata": {},
   "source": [
    "### Load and clean data"
   ]
  },
  {
   "cell_type": "code",
   "execution_count": 4,
   "metadata": {},
   "outputs": [],
   "source": [
    "temp = []\n",
    "\n",
    "# load data from json files\n",
    "for file in files:\n",
    "    read = json.load(open(file))\n",
    "    temp.append(pd.DataFrame(read))\n",
    "\n",
    "# append to ultimate dataframe\n",
    "data = pd.concat(temp, ignore_index=True)\n",
    "\n",
    "# format to datetime for sorting\n",
    "data['opendate'] = pd.to_datetime(data['opendate'], format=\"%Y-%m-%d\")\n",
    "data['opentime'] = pd.to_datetime(data['opentime'], format=\"%H:%M:%S\")\n",
    "data['remarks'] = pd.to_timedelta(data['diff']).dt.seconds\n",
    "\n",
    "# clean date attribute\n",
    "data['opentime'] = data['opentime'].apply(lambda x: clean_time(x))\n",
    "data['opendatetime'] = data['opendate'].astype(str) + \" \" + data['opentime'].astype(str)\n",
    "data['closedatetime'] = data['closedate'].astype(str) + \" \" + data['closetime'].astype(str)\n",
    "\n",
    "data['opendatetime'] = pd.to_datetime(data['opendatetime'])\n",
    "data['closedatetime'] = pd.to_datetime(data['closedatetime'])\n",
    "data = data.reindex(columns=[\"opendatetime\", \"opendate\", \"opentime\", \"closedatetime\", \"closedate\", \"closetime\",\"diff\", \"remarks\"])\n",
    "\n",
    "# sort by opening date and opentime\n",
    "data = data.sort_values(\"opendate\")\n",
    "data = data.reset_index(drop=True)\n",
    "\n",
    "data.to_csv(data_dir + \"data.csv\", index=False)"
   ]
  },
  {
   "cell_type": "code",
   "execution_count": 5,
   "metadata": {},
   "outputs": [
    {
     "data": {
      "text/html": [
       "<div>\n",
       "<style scoped>\n",
       "    .dataframe tbody tr th:only-of-type {\n",
       "        vertical-align: middle;\n",
       "    }\n",
       "\n",
       "    .dataframe tbody tr th {\n",
       "        vertical-align: top;\n",
       "    }\n",
       "\n",
       "    .dataframe thead th {\n",
       "        text-align: right;\n",
       "    }\n",
       "</style>\n",
       "<table border=\"1\" class=\"dataframe\">\n",
       "  <thead>\n",
       "    <tr style=\"text-align: right;\">\n",
       "      <th></th>\n",
       "      <th>opendatetime</th>\n",
       "      <th>opendate</th>\n",
       "      <th>opentime</th>\n",
       "      <th>closedatetime</th>\n",
       "      <th>closedate</th>\n",
       "      <th>closetime</th>\n",
       "      <th>diff</th>\n",
       "      <th>remarks</th>\n",
       "    </tr>\n",
       "  </thead>\n",
       "  <tbody>\n",
       "    <tr>\n",
       "      <th>292</th>\n",
       "      <td>2022-09-18 00:28:34</td>\n",
       "      <td>2022-09-18</td>\n",
       "      <td>00:28:34</td>\n",
       "      <td>2022-09-18 02:50:26</td>\n",
       "      <td>2022-09-18</td>\n",
       "      <td>02:50:26</td>\n",
       "      <td>2:21:52</td>\n",
       "      <td>8512</td>\n",
       "    </tr>\n",
       "    <tr>\n",
       "      <th>293</th>\n",
       "      <td>2022-09-19 07:39:41</td>\n",
       "      <td>2022-09-19</td>\n",
       "      <td>07:39:41</td>\n",
       "      <td>2022-09-19 13:37:46</td>\n",
       "      <td>2022-09-19</td>\n",
       "      <td>13:37:46</td>\n",
       "      <td>5:58:05</td>\n",
       "      <td>21485</td>\n",
       "    </tr>\n",
       "    <tr>\n",
       "      <th>294</th>\n",
       "      <td>2022-09-19 16:22:59</td>\n",
       "      <td>2022-09-19</td>\n",
       "      <td>16:22:59</td>\n",
       "      <td>2022-09-19 17:12:53</td>\n",
       "      <td>2022-09-19</td>\n",
       "      <td>17:12:53</td>\n",
       "      <td>0:49:54</td>\n",
       "      <td>2994</td>\n",
       "    </tr>\n",
       "    <tr>\n",
       "      <th>295</th>\n",
       "      <td>2022-09-19 00:11:42</td>\n",
       "      <td>2022-09-19</td>\n",
       "      <td>00:11:42</td>\n",
       "      <td>2022-09-19 04:49:06</td>\n",
       "      <td>2022-09-19</td>\n",
       "      <td>04:49:06</td>\n",
       "      <td>4:37:24</td>\n",
       "      <td>16644</td>\n",
       "    </tr>\n",
       "    <tr>\n",
       "      <th>296</th>\n",
       "      <td>2022-09-19 22:31:41</td>\n",
       "      <td>2022-09-19</td>\n",
       "      <td>22:31:41</td>\n",
       "      <td>2022-09-20 02:26:07</td>\n",
       "      <td>2022-09-20</td>\n",
       "      <td>02:26:07</td>\n",
       "      <td>3:54:26</td>\n",
       "      <td>14066</td>\n",
       "    </tr>\n",
       "  </tbody>\n",
       "</table>\n",
       "</div>"
      ],
      "text/plain": [
       "           opendatetime   opendate  opentime       closedatetime   closedate  \\\n",
       "292 2022-09-18 00:28:34 2022-09-18  00:28:34 2022-09-18 02:50:26  2022-09-18   \n",
       "293 2022-09-19 07:39:41 2022-09-19  07:39:41 2022-09-19 13:37:46  2022-09-19   \n",
       "294 2022-09-19 16:22:59 2022-09-19  16:22:59 2022-09-19 17:12:53  2022-09-19   \n",
       "295 2022-09-19 00:11:42 2022-09-19  00:11:42 2022-09-19 04:49:06  2022-09-19   \n",
       "296 2022-09-19 22:31:41 2022-09-19  22:31:41 2022-09-20 02:26:07  2022-09-20   \n",
       "\n",
       "    closetime     diff  remarks  \n",
       "292  02:50:26  2:21:52     8512  \n",
       "293  13:37:46  5:58:05    21485  \n",
       "294  17:12:53  0:49:54     2994  \n",
       "295  04:49:06  4:37:24    16644  \n",
       "296  02:26:07  3:54:26    14066  "
      ]
     },
     "execution_count": 5,
     "metadata": {},
     "output_type": "execute_result"
    }
   ],
   "source": [
    "data.tail()"
   ]
  },
  {
   "cell_type": "markdown",
   "metadata": {},
   "source": [
    "### Number of occurrence of electricity supply?"
   ]
  },
  {
   "cell_type": "code",
   "execution_count": 6,
   "metadata": {},
   "outputs": [
    {
     "data": {
      "text/plain": [
       "(297, 8)"
      ]
     },
     "execution_count": 6,
     "metadata": {},
     "output_type": "execute_result"
    }
   ],
   "source": [
    "data.shape"
   ]
  },
  {
   "cell_type": "markdown",
   "metadata": {},
   "source": [
    "- There were 297 occurrence of electricity from August to September"
   ]
  },
  {
   "cell_type": "markdown",
   "metadata": {},
   "source": [
    "### What data types are contained in the dataset?"
   ]
  },
  {
   "cell_type": "code",
   "execution_count": 7,
   "metadata": {},
   "outputs": [
    {
     "name": "stdout",
     "output_type": "stream",
     "text": [
      "<class 'pandas.core.frame.DataFrame'>\n",
      "RangeIndex: 297 entries, 0 to 296\n",
      "Data columns (total 8 columns):\n",
      " #   Column         Non-Null Count  Dtype         \n",
      "---  ------         --------------  -----         \n",
      " 0   opendatetime   297 non-null    datetime64[ns]\n",
      " 1   opendate       297 non-null    datetime64[ns]\n",
      " 2   opentime       297 non-null    object        \n",
      " 3   closedatetime  297 non-null    datetime64[ns]\n",
      " 4   closedate      297 non-null    object        \n",
      " 5   closetime      297 non-null    object        \n",
      " 6   diff           297 non-null    object        \n",
      " 7   remarks        297 non-null    int64         \n",
      "dtypes: datetime64[ns](3), int64(1), object(4)\n",
      "memory usage: 18.7+ KB\n"
     ]
    }
   ],
   "source": [
    "data.info()"
   ]
  },
  {
   "cell_type": "markdown",
   "metadata": {},
   "source": [
    "- There is only one numeric variable and 7 discrete datetime objects"
   ]
  },
  {
   "cell_type": "markdown",
   "metadata": {},
   "source": [
    "### Does the dataset contain null values?"
   ]
  },
  {
   "cell_type": "code",
   "execution_count": 8,
   "metadata": {},
   "outputs": [
    {
     "data": {
      "text/plain": [
       "opendatetime     0\n",
       "opendate         0\n",
       "opentime         0\n",
       "closedatetime    0\n",
       "closedate        0\n",
       "closetime        0\n",
       "diff             0\n",
       "remarks          0\n",
       "dtype: int64"
      ]
     },
     "execution_count": 8,
     "metadata": {},
     "output_type": "execute_result"
    }
   ],
   "source": [
    "data.isna().sum()"
   ]
  },
  {
   "cell_type": "markdown",
   "metadata": {},
   "source": [
    "- The dataset has no null value"
   ]
  },
  {
   "cell_type": "markdown",
   "metadata": {},
   "source": [
    "### Which day had the most supply of electricity?"
   ]
  },
  {
   "cell_type": "code",
   "execution_count": 9,
   "metadata": {},
   "outputs": [
    {
     "data": {
      "text/html": [
       "<div>\n",
       "<style scoped>\n",
       "    .dataframe tbody tr th:only-of-type {\n",
       "        vertical-align: middle;\n",
       "    }\n",
       "\n",
       "    .dataframe tbody tr th {\n",
       "        vertical-align: top;\n",
       "    }\n",
       "\n",
       "    .dataframe thead th {\n",
       "        text-align: right;\n",
       "    }\n",
       "</style>\n",
       "<table border=\"1\" class=\"dataframe\">\n",
       "  <thead>\n",
       "    <tr style=\"text-align: right;\">\n",
       "      <th></th>\n",
       "      <th>opendatetime</th>\n",
       "      <th>opendate</th>\n",
       "      <th>opentime</th>\n",
       "      <th>closedatetime</th>\n",
       "      <th>closedate</th>\n",
       "      <th>closetime</th>\n",
       "      <th>diff</th>\n",
       "      <th>remarks</th>\n",
       "    </tr>\n",
       "  </thead>\n",
       "  <tbody>\n",
       "    <tr>\n",
       "      <th>68</th>\n",
       "      <td>2022-07-20 13:53:43</td>\n",
       "      <td>2022-07-20</td>\n",
       "      <td>13:53:43</td>\n",
       "      <td>2022-07-20 19:52:29</td>\n",
       "      <td>2022-07-20</td>\n",
       "      <td>19:52:29</td>\n",
       "      <td>5:58:46</td>\n",
       "      <td>21526</td>\n",
       "    </tr>\n",
       "  </tbody>\n",
       "</table>\n",
       "</div>"
      ],
      "text/plain": [
       "          opendatetime   opendate  opentime       closedatetime   closedate  \\\n",
       "68 2022-07-20 13:53:43 2022-07-20  13:53:43 2022-07-20 19:52:29  2022-07-20   \n",
       "\n",
       "   closetime     diff  remarks  \n",
       "68  19:52:29  5:58:46    21526  "
      ]
     },
     "execution_count": 9,
     "metadata": {},
     "output_type": "execute_result"
    }
   ],
   "source": [
    "# describe the data and determine the maximum day\n",
    "desc = data.describe().T\n",
    "data.loc[(data['remarks'] == int(desc['max'].iloc[-1]))]"
   ]
  },
  {
   "cell_type": "markdown",
   "metadata": {},
   "source": [
    "- 20th of July had the most supply with 6 hours of electricity"
   ]
  },
  {
   "cell_type": "markdown",
   "metadata": {},
   "source": [
    "### Which day had the least supply of electricity?"
   ]
  },
  {
   "cell_type": "code",
   "execution_count": 10,
   "metadata": {},
   "outputs": [
    {
     "data": {
      "text/html": [
       "<div>\n",
       "<style scoped>\n",
       "    .dataframe tbody tr th:only-of-type {\n",
       "        vertical-align: middle;\n",
       "    }\n",
       "\n",
       "    .dataframe tbody tr th {\n",
       "        vertical-align: top;\n",
       "    }\n",
       "\n",
       "    .dataframe thead th {\n",
       "        text-align: right;\n",
       "    }\n",
       "</style>\n",
       "<table border=\"1\" class=\"dataframe\">\n",
       "  <thead>\n",
       "    <tr style=\"text-align: right;\">\n",
       "      <th></th>\n",
       "      <th>opendatetime</th>\n",
       "      <th>opendate</th>\n",
       "      <th>opentime</th>\n",
       "      <th>closedatetime</th>\n",
       "      <th>closedate</th>\n",
       "      <th>closetime</th>\n",
       "      <th>diff</th>\n",
       "      <th>remarks</th>\n",
       "    </tr>\n",
       "  </thead>\n",
       "  <tbody>\n",
       "    <tr>\n",
       "      <th>28</th>\n",
       "      <td>2022-07-08 20:55:27</td>\n",
       "      <td>2022-07-08</td>\n",
       "      <td>20:55:27</td>\n",
       "      <td>2022-07-08 21:25:57</td>\n",
       "      <td>2022-07-08</td>\n",
       "      <td>21:25:57</td>\n",
       "      <td>0:30:30</td>\n",
       "      <td>1830</td>\n",
       "    </tr>\n",
       "  </tbody>\n",
       "</table>\n",
       "</div>"
      ],
      "text/plain": [
       "          opendatetime   opendate  opentime       closedatetime   closedate  \\\n",
       "28 2022-07-08 20:55:27 2022-07-08  20:55:27 2022-07-08 21:25:57  2022-07-08   \n",
       "\n",
       "   closetime     diff  remarks  \n",
       "28  21:25:57  0:30:30     1830  "
      ]
     },
     "execution_count": 10,
     "metadata": {},
     "output_type": "execute_result"
    }
   ],
   "source": [
    "data.loc[(data['remarks'] == int(desc['min'].iloc[-1]))]"
   ]
  },
  {
   "cell_type": "markdown",
   "metadata": {},
   "source": [
    "- 7th of July had the least supply with only 30.6 minutes of supply (No flashing)"
   ]
  },
  {
   "cell_type": "markdown",
   "metadata": {},
   "source": [
    "### On average, how long does the supply last?"
   ]
  },
  {
   "cell_type": "code",
   "execution_count": 11,
   "metadata": {},
   "outputs": [
    {
     "data": {
      "text/html": [
       "<div>\n",
       "<style scoped>\n",
       "    .dataframe tbody tr th:only-of-type {\n",
       "        vertical-align: middle;\n",
       "    }\n",
       "\n",
       "    .dataframe tbody tr th {\n",
       "        vertical-align: top;\n",
       "    }\n",
       "\n",
       "    .dataframe thead th {\n",
       "        text-align: right;\n",
       "    }\n",
       "</style>\n",
       "<table border=\"1\" class=\"dataframe\">\n",
       "  <thead>\n",
       "    <tr style=\"text-align: right;\">\n",
       "      <th></th>\n",
       "      <th>mean</th>\n",
       "      <th>std</th>\n",
       "      <th>min</th>\n",
       "      <th>50%</th>\n",
       "      <th>max</th>\n",
       "    </tr>\n",
       "  </thead>\n",
       "  <tbody>\n",
       "    <tr>\n",
       "      <th>remarks</th>\n",
       "      <td>3.25</td>\n",
       "      <td>1.59</td>\n",
       "      <td>0.51</td>\n",
       "      <td>3.24</td>\n",
       "      <td>5.98</td>\n",
       "    </tr>\n",
       "  </tbody>\n",
       "</table>\n",
       "</div>"
      ],
      "text/plain": [
       "         mean   std   min   50%   max\n",
       "remarks  3.25  1.59  0.51  3.24  5.98"
      ]
     },
     "execution_count": 11,
     "metadata": {},
     "output_type": "execute_result"
    }
   ],
   "source": [
    "# display data description and convert seconds to hours\n",
    "desc = (desc.reindex(columns=[\"mean\", \"std\", \"min\", \"50%\", \"max\"]) / 60 / 60).round(decimals=2)\n",
    "desc"
   ]
  },
  {
   "cell_type": "markdown",
   "metadata": {},
   "source": [
    "- The average supply lasts about 3.25 hours of electricity"
   ]
  },
  {
   "cell_type": "markdown",
   "metadata": {},
   "source": [
    "## Univariate and Time Series Analysis"
   ]
  },
  {
   "cell_type": "code",
   "execution_count": 12,
   "metadata": {},
   "outputs": [],
   "source": [
    "time_series = traces.TimeSeries()\n",
    "\n",
    "# append open and close datetime to time series\n",
    "for row in data.values:\n",
    "    time_series[row[0]] = \"ON\"\n",
    "    time_series[row[3]] = \"OFF\""
   ]
  },
  {
   "cell_type": "markdown",
   "metadata": {},
   "source": [
    "### Were there more ONs than OFFs?"
   ]
  },
  {
   "cell_type": "code",
   "execution_count": 73,
   "metadata": {},
   "outputs": [
    {
     "name": "stdout",
     "output_type": "stream",
     "text": [
      "Histogram({'OFF': 50.21, 'ON': 49.79})\n"
     ]
    },
    {
     "data": {
      "image/png": "[encoded data removed]",
      "text/plain": [
       "<Figure size 576x432 with 1 Axes>"
      ]
     },
     "metadata": {},
     "output_type": "display_data"
    }
   ],
   "source": [
    "# calculate fraction of time for the time series\n",
    "distribution = time_series.distribution(\n",
    "        start=data.values[0][0],\n",
    "        end=data.values[-1][0]\n",
    ")\n",
    "\n",
    "# convert decimals to percents\n",
    "distribution['OFF'] = round(distribution['OFF'] * 100, 2)\n",
    "distribution['ON'] = round(distribution['ON'] * 100, 2)\n",
    "print(distribution)\n",
    "\n",
    "# plot histogram distribution\n",
    "fig = plt.figure(figsize=(8, 6))\n",
    "plt.pie(distribution.values(), autopct=\"%.2f%%\",\n",
    "                         labels= [\"OFF\", \"ON\"], shadow=True,\n",
    "                         explode=(0,0.01))\n",
    "\n",
    "# append labels to plot\n",
    "plt.title(f\"Electricity Supply Distribution ({str(data.values[0][0]).split()[0]} - \"\n",
    "        f\"{str(data.values[-1][0]).split()[0]})\")\n",
    "\n",
    "# display plot\n",
    "plt.show()"
   ]
  },
  {
   "cell_type": "markdown",
   "metadata": {},
   "source": [
    "- There was no light for most of the time. Electricity was supplied only about 49% of the time."
   ]
  },
  {
   "cell_type": "markdown",
   "metadata": {},
   "source": [
    "### What times of the day had the most and least supply of electricity?"
   ]
  },
  {
   "cell_type": "code",
   "execution_count": 40,
   "metadata": {},
   "outputs": [
    {
     "data": {
      "image/png": "[encoded data removed]",
      "text/plain": [
       "<Figure size 2880x720 with 1 Axes>"
      ]
     },
     "metadata": {
      "needs_background": "light"
     },
     "output_type": "display_data"
    }
   ],
   "source": [
    "hours = time_series.distribution_by_hour_of_day()\n",
    "\n",
    "# plot labels\n",
    "ticks = [f\"{i} hrs-{i+1} hrs\" for i in range(0,23)]\n",
    "ticks.append(\"23 hrs - 0 hrs\")\n",
    "\n",
    "# placeholder for hours of the day\n",
    "hour_distribution = np.arange(24)\n",
    "\n",
    "off = []\n",
    "on = []\n",
    "\n",
    "# iterate timeseries\n",
    "for hour, dist in hours:\n",
    "    off.append(round(dist['OFF'] * 100, 2))\n",
    "    on.append(round(dist['ON'] * 100, 2))\n",
    "\n",
    "# create figure and and bar plot\n",
    "fig = plt.figure(figsize=(40, 10))\n",
    "bar1 = plt.bar(hour_distribution-0.2, off, 0.3)\n",
    "bar2 = plt.bar(hour_distribution+0.2, on, 0.3)\n",
    "\n",
    "# annotate bar plot\n",
    "plt.bar_label(bar1, padding=3)\n",
    "plt.bar_label(bar2, padding=4)\n",
    "\n",
    "# plot labelling\n",
    "plt.title(\"Hourly Analysis of Electricity Supply\")\n",
    "plt.xlabel(\"Hours\")\n",
    "plt.ylabel(\"Percent\")\n",
    "plt.xticks(hour_distribution, ticks, rotation=\"60\")\n",
    "\n",
    "# plot visualization\n",
    "plt.legend([\"OFF\", \"ON\"])\n",
    "plt.grid(axis='y', color='green')\n",
    "plt.show()"
   ]
  },
  {
   "cell_type": "markdown",
   "metadata": {},
   "source": [
    "- Electricity supply was on the most between 4pm - 5 pm.\n",
    "- Electricity supply was off the most between 1pm - 2pm."
   ]
  },
  {
   "cell_type": "markdown",
   "metadata": {},
   "source": [
    "### What days of the week had the most and least supply of electricity?"
   ]
  },
  {
   "cell_type": "code",
   "execution_count": 39,
   "metadata": {},
   "outputs": [
    {
     "data": {
      "image/png": "[encoded data removed]",
      "text/plain": [
       "<Figure size 720x576 with 1 Axes>"
      ]
     },
     "metadata": {
      "needs_background": "light"
     },
     "output_type": "display_data"
    }
   ],
   "source": [
    "days = time_series.distribution_by_day_of_week()\n",
    "\n",
    "# plot labels\n",
    "days_of_week = ['Monday', 'Tuesday', 'Wednesday', \n",
    "                'Thursday', 'Friday', 'Saturday', 'Sunday']\n",
    "\n",
    "# placeholder for days of the day\n",
    "day_distribution = np.arange(7)\n",
    "\n",
    "off = []\n",
    "on = []\n",
    "\n",
    "# iterate timeseries\n",
    "for day, dist in days:\n",
    "    off.append(round(dist['OFF'] * 100, 2))\n",
    "    on.append(round(dist['ON'] * 100, 2))\n",
    "\n",
    "# create figure and and bar plot\n",
    "fig = plt.figure(figsize=(10, 8))\n",
    "bar1 = plt.bar(day_distribution-0.2, off, 0.3)\n",
    "bar2 = plt.bar(day_distribution+0.2, on, 0.3)\n",
    "\n",
    "# annotate bar plot\n",
    "plt.bar_label(bar1, padding=1)\n",
    "plt.bar_label(bar2, padding=1)\n",
    "\n",
    "# plot labelling\n",
    "plt.title(\"Days Analysis of Electricity Supply\")\n",
    "plt.xlabel(\"days\")\n",
    "plt.ylabel(\"Percent\")\n",
    "plt.xticks(day_distribution, days_of_week, rotation=\"60\")\n",
    "\n",
    "# plot visualization\n",
    "plt.tight_layout()\n",
    "plt.legend([\"OFF\", \"ON\"], loc=\"upper left\")\n",
    "plt.grid(axis='y', color='green')\n",
    "plt.show()"
   ]
  },
  {
   "cell_type": "markdown",
   "metadata": {},
   "source": [
    "- There was more electricity supply on Saturdays\n",
    "- Electricity supply was off the most on Wednesdays."
   ]
  }
 ],
 "metadata": {
  "kernelspec": {
   "display_name": "Python 3",
   "language": "python",
   "name": "python3"
  },
  "language_info": {
   "codemirror_mode": {
    "name": "ipython",
    "version": 3
   },
   "file_extension": ".py",
   "mimetype": "text/x-python",
   "name": "python",
   "nbconvert_exporter": "python",
   "pygments_lexer": "ipython3",
   "version": "3.9.4"
  },
  "vscode": {
   "interpreter": {
    "hash": "82ed002fa2d4956f5c6aec99bcefe0f73a9f79882f3c9e2319b14958a5896ac5"
   }
  }
 },
 "nbformat": 4,
 "nbformat_minor": 2
}
